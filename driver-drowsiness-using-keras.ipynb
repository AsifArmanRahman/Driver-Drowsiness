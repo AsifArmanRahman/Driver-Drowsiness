{
 "cells": [
  {
   "cell_type": "code",
   "execution_count": 1,
   "metadata": {
    "_cell_guid": "b1076dfc-b9ad-4769-8c92-a6c4dae69d19",
    "_uuid": "8f2839f25d086af736a60e9eeb907d3b93b6e0e5"
   },
   "outputs": [
    {
     "data": {
      "text/plain": [
       "['Closed', 'no_yawn', 'Open', 'yawn']"
      ]
     },
     "execution_count": 1,
     "metadata": {},
     "output_type": "execute_result"
    }
   ],
   "source": [
    "import os\n",
    "\n",
    "#directory\n",
    "directory = \"data/train\"\n",
    "\n",
    "#labels\n",
    "labels = os.listdir(directory)\n",
    "labels"
   ]
  },
  {
   "cell_type": "code",
   "execution_count": 2,
   "metadata": {},
   "outputs": [],
   "source": [
    "import cv2\n",
    "\n",
    "cv2_base_dir = os.path.dirname(os.path.abspath(cv2.__file__))\n",
    "haar_eye = os.path.join(cv2_base_dir, 'data/haarcascade.xml')\n",
    "haar_front = os.path.join(cv2_base_dir, 'data/haarcascade_frontalface_default.xml')\n",
    "\n",
    "\n",
    "\n",
    "\n",
    "def open_closed_eye(IMG_SIZE, dir_path=directory):\n",
    "    data = []\n",
    "    categories = ['Closed', 'Open']\n",
    "    \n",
    "    for category in categories:\n",
    "        path = os.path.join(dir_path, category)\n",
    "        \n",
    "        class_num = categories.index(category)\n",
    "        class_num +=2\n",
    "        print(class_num)\n",
    "        \n",
    "        for img in os.listdir(path):\n",
    "            try:\n",
    "                img_array = cv2.imread(os.path.join(path, img), cv2.IMREAD_COLOR)\n",
    "                resized_array = cv2.resize(img_array, (IMG_SIZE, IMG_SIZE))\n",
    "                data.append([resized_array, class_num])\n",
    "            \n",
    "            except Exception as e:\n",
    "                print(e)\n",
    "    \n",
    "    return data\n",
    "\n",
    "\n",
    "\n",
    "\n",
    "# Take the only face for labels 'yawn' and 'not_yawn'\n",
    "\n",
    "def face_for_yawn(IMG_SIZE, direc=directory, face_cas_path=haar_front):\n",
    "    data = []\n",
    "    categories = [\"yawn\", \"no_yawn\"]\n",
    "    \n",
    "    for category in categories:\n",
    "        path = os.path.join(direc, category)\n",
    "        \n",
    "        class_num = categories.index(category)\n",
    "        print(class_num)\n",
    "        \n",
    "        for image in os.listdir(path):\n",
    "            image_array = cv2.imread(os.path.join(path, image), cv2.IMREAD_COLOR)\n",
    "            \n",
    "            face_cascade = cv2.CascadeClassifier(face_cas_path)\n",
    "            faces = face_cascade.detectMultiScale(image_array, 1.3, 5)\n",
    "            \n",
    "            for (x, y, w, h) in faces:\n",
    "                try:\n",
    "                    img = cv2.rectangle(image_array, (x, y), (x+w, y+h), (0, 255, 0), 2)\n",
    "                    roi_color = img[y:y+h, x:x+w]\n",
    "                    resized_array = cv2.resize(roi_color, (IMG_SIZE, IMG_SIZE))\n",
    "                    data.append([resized_array, class_num])\n",
    "                    \n",
    "                except Exception as e:\n",
    "                    print(e)\n",
    "    \n",
    "    return data"
   ]
  },
  {
   "cell_type": "code",
   "execution_count": 3,
   "metadata": {},
   "outputs": [
    {
     "name": "stdout",
     "output_type": "stream",
     "text": [
      "0\n",
      "1\n",
      "2\n",
      "3\n"
     ]
    }
   ],
   "source": [
    "import numpy as np\n",
    "\n",
    "image_size = 256\n",
    "\n",
    "def total_data():\n",
    "    yawn_no_yawn = face_for_yawn(image_size)\n",
    "    closed_open_eye = open_closed_eye(image_size)\n",
    "    \n",
    "    yawn_no_yawn.extend(closed_open_eye)\n",
    "    \n",
    "    return np.array(yawn_no_yawn)\n",
    "\n",
    "data = total_data()"
   ]
  },
  {
   "cell_type": "code",
   "execution_count": 4,
   "metadata": {},
   "outputs": [],
   "source": [
    "# separate label and features\n",
    "X = []\n",
    "y = []\n",
    "\n",
    "for feature, label in data:\n",
    "    X.append(feature)\n",
    "    y.append(label)"
   ]
  },
  {
   "cell_type": "code",
   "execution_count": 5,
   "metadata": {},
   "outputs": [],
   "source": [
    "# reshape the array\n",
    "\n",
    "X = np.array(X)\n",
    "X = X.reshape(-1, image_size, image_size, 3)"
   ]
  },
  {
   "cell_type": "code",
   "execution_count": 6,
   "metadata": {},
   "outputs": [],
   "source": [
    "# LabelBinarizer\n",
    "from sklearn.preprocessing import LabelBinarizer\n",
    "\n",
    "label_bin = LabelBinarizer()\n",
    "y = label_bin.fit_transform(y)\n",
    "\n",
    "y = np.array(y)"
   ]
  },
  {
   "cell_type": "code",
   "execution_count": 7,
   "metadata": {},
   "outputs": [],
   "source": [
    "# train test split\n",
    "from sklearn.model_selection import train_test_split\n",
    "\n",
    "X_train, X_test, y_train, y_test = train_test_split(X, y, random_state=42, test_size=0.3)"
   ]
  },
  {
   "cell_type": "code",
   "execution_count": 8,
   "metadata": {},
   "outputs": [
    {
     "data": {
      "text/plain": [
       "578"
      ]
     },
     "execution_count": 8,
     "metadata": {},
     "output_type": "execute_result"
    }
   ],
   "source": [
    "# number of attributes in test\n",
    "len(X_test)"
   ]
  },
  {
   "cell_type": "code",
   "execution_count": 9,
   "metadata": {},
   "outputs": [],
   "source": [
    "from tensorflow.keras.models import load_model\n",
    "import matplotlib.pyplot as plt\n",
    "\n",
    "def plot_here():\n",
    "    accuracy = history.history['acc']\n",
    "    val_accuracy = history.history['val_acc']\n",
    "    loss = history.history['loss']\n",
    "    val_loss = history.history['val_loss']\n",
    "    epochs = range(len(accuracy))\n",
    "\n",
    "    plt.plot(epochs, accuracy, \"b\", label=\"trainning accuracy\")\n",
    "    plt.plot(epochs, val_accuracy, \"r\", label=\"validation accuracy\")\n",
    "    plt.legend()\n",
    "    plt.show()\n",
    "\n",
    "    plt.plot(epochs, loss, \"b\", label=\"trainning loss\")\n",
    "    plt.plot(epochs, val_loss, \"r\", label=\"validation loss\")\n",
    "    plt.legend()\n",
    "    plt.show()\n",
    "    \n",
    "def results(model_loc):\n",
    "    model = load_model(model_loc)\n",
    "    # Final evaluation of the model\n",
    "    scores = model.evaluate(test_generator, verbose = 0)\n",
    "\n",
    "    print('Test loss: %.4f%%' % scores[0])\n",
    "    print('Test accuracy: %.4f%%' % scores[1])\n",
    "\n",
    "    print(\"Large CNN Error: %.4f%%\" % (100-scores[1]*100))"
   ]
  },
  {
   "cell_type": "code",
   "execution_count": 10,
   "metadata": {},
   "outputs": [],
   "source": [
    "# Data Augmentation\n",
    "from tensorflow.keras.applications.resnet50 import preprocess_input\n",
    "from tensorflow.keras.preprocessing.image import ImageDataGenerator\n",
    "\n",
    "\n",
    "train_generator = ImageDataGenerator(preprocessing_function=preprocess_input)\n",
    "test_generator = ImageDataGenerator(preprocessing_function=preprocess_input)\n",
    "\n",
    "BS = 16\n",
    "\n",
    "train_generator = train_generator.flow(np.array(X_train), y_train, batch_size= BS)\n",
    "test_generator = test_generator.flow(np.array(X_test), y_test, batch_size= BS)"
   ]
  },
  {
   "cell_type": "markdown",
   "metadata": {},
   "source": [
    "\n",
    "## Model 1"
   ]
  },
  {
   "cell_type": "code",
   "execution_count": 11,
   "metadata": {},
   "outputs": [
    {
     "name": "stdout",
     "output_type": "stream",
     "text": [
      "WARNING:tensorflow:From C:\\Users\\Asif_\\miniconda3\\envs\\directML\\lib\\site-packages\\tensorflow_core\\python\\ops\\resource_variable_ops.py:1630: calling BaseResourceVariable.__init__ (from tensorflow.python.ops.resource_variable_ops) with constraint is deprecated and will be removed in a future version.\n",
      "Instructions for updating:\n",
      "If using Keras pass *_constraint arguments to layers.\n",
      "Model: \"sequential\"\n",
      "_________________________________________________________________\n",
      "Layer (type)                 Output Shape              Param #   \n",
      "=================================================================\n",
      "conv2d (Conv2D)              (None, 254, 254, 128)     3584      \n",
      "_________________________________________________________________\n",
      "max_pooling2d (MaxPooling2D) (None, 127, 127, 128)     0         \n",
      "_________________________________________________________________\n",
      "conv2d_1 (Conv2D)            (None, 125, 125, 128)     147584    \n",
      "_________________________________________________________________\n",
      "max_pooling2d_1 (MaxPooling2 (None, 62, 62, 128)       0         \n",
      "_________________________________________________________________\n",
      "conv2d_2 (Conv2D)            (None, 60, 60, 64)        73792     \n",
      "_________________________________________________________________\n",
      "max_pooling2d_2 (MaxPooling2 (None, 30, 30, 64)        0         \n",
      "_________________________________________________________________\n",
      "conv2d_3 (Conv2D)            (None, 28, 28, 32)        18464     \n",
      "_________________________________________________________________\n",
      "max_pooling2d_3 (MaxPooling2 (None, 14, 14, 32)        0         \n",
      "_________________________________________________________________\n",
      "flatten (Flatten)            (None, 6272)              0         \n",
      "_________________________________________________________________\n",
      "dropout (Dropout)            (None, 6272)              0         \n",
      "_________________________________________________________________\n",
      "dense (Dense)                (None, 64)                401472    \n",
      "_________________________________________________________________\n",
      "dense_1 (Dense)              (None, 4)                 260       \n",
      "=================================================================\n",
      "Total params: 645,156\n",
      "Trainable params: 645,156\n",
      "Non-trainable params: 0\n",
      "_________________________________________________________________\n",
      "None\n"
     ]
    }
   ],
   "source": [
    "from tensorflow.keras.models import Sequential\n",
    "from tensorflow.keras.layers import Conv2D, MaxPooling2D, Flatten, Dropout, Dense\n",
    "\n",
    "\n",
    "def model_1():\n",
    "    model = Sequential()\n",
    "\n",
    "    model.add(Conv2D(128, (3, 3), activation=\"relu\", input_shape=X_train.shape[1:]))\n",
    "    model.add(MaxPooling2D(2, 2))\n",
    "\n",
    "    model.add(Conv2D(128, (3, 3), activation=\"relu\"))\n",
    "    model.add(MaxPooling2D(2, 2))\n",
    "\n",
    "    model.add(Conv2D(64, (3, 3), activation=\"relu\"))\n",
    "    model.add(MaxPooling2D(2, 2))\n",
    "    \n",
    "    model.add(Conv2D(32, (3, 3), activation=\"relu\"))\n",
    "    model.add(MaxPooling2D(2, 2))\n",
    "\n",
    "    model.add(Flatten())\n",
    "    model.add(Dropout(0.5))\n",
    "\n",
    "    model.add(Dense(64, activation=\"relu\"))\n",
    "    model.add(Dense(4, activation=\"softmax\"))\n",
    "\n",
    "    model.compile(loss = 'categorical_crossentropy',optimizer = 'adam' , metrics = ['accuracy'])\n",
    "    \n",
    "    return model\n",
    "\n",
    "cnn_model = model_1()\n",
    "\n",
    "print(cnn_model.summary())"
   ]
  },
  {
   "cell_type": "code",
   "execution_count": 12,
   "metadata": {},
   "outputs": [],
   "source": [
    "from tensorflow.keras.callbacks import ModelCheckpoint\n",
    "\n",
    "def model_checkPoint(model_path):\n",
    "    checkpoint = ModelCheckpoint(model_path, verbose=1, save_best_only=True, mode='min')\n",
    "    callbacks_list = [checkpoint]\n",
    "\n",
    "    return callbacks_list"
   ]
  },
  {
   "cell_type": "code",
   "execution_count": 13,
   "metadata": {},
   "outputs": [],
   "source": [
    "from datetime import datetime\n",
    "\n",
    "date = '{d:%m-%d__%H-%M}'.format( d=datetime.now() )"
   ]
  },
  {
   "cell_type": "code",
   "execution_count": 14,
   "metadata": {},
   "outputs": [
    {
     "name": "stdout",
     "output_type": "stream",
     "text": [
      "Epoch 1/7\n",
      "84/85 [============================>.] - ETA: 1s - loss: 2.1230 - acc: 0.6431Epoch 1/7\n",
      "37/85 [============>.................] - ETA: 17s - loss: 0.4724 - acc: 0.8080\n",
      "Epoch 00001: val_loss improved from inf to 0.47239, saving model to data/models/cnn_12-26__14-46.h5\n",
      "85/85 [==============================] - 133s 2s/step - loss: 2.0995 - acc: 0.6474 - val_loss: 0.4724 - val_acc: 0.8080\n",
      "Epoch 2/7\n",
      "84/85 [============================>.] - ETA: 1s - loss: 0.4714 - acc: 0.8197Epoch 1/7\n",
      "37/85 [============>.................] - ETA: 18s - loss: 0.3672 - acc: 0.8581\n",
      "Epoch 00002: val_loss improved from 0.47239 to 0.36723, saving model to data/models/cnn_12-26__14-46.h5\n",
      "85/85 [==============================] - 136s 2s/step - loss: 0.4733 - acc: 0.8189 - val_loss: 0.3672 - val_acc: 0.8581\n",
      "Epoch 3/7\n",
      "84/85 [============================>.] - ETA: 1s - loss: 0.3332 - acc: 0.8753Epoch 1/7\n",
      "37/85 [============>.................] - ETA: 18s - loss: 0.2977 - acc: 0.8720\n",
      "Epoch 00003: val_loss improved from 0.36723 to 0.29770, saving model to data/models/cnn_12-26__14-46.h5\n",
      "85/85 [==============================] - 136s 2s/step - loss: 0.3314 - acc: 0.8768 - val_loss: 0.2977 - val_acc: 0.8720\n",
      "Epoch 4/7\n",
      "84/85 [============================>.] - ETA: 1s - loss: 0.3028 - acc: 0.8835Epoch 1/7\n",
      "37/85 [============>.................] - ETA: 18s - loss: 0.2406 - acc: 0.8979\n",
      "Epoch 00004: val_loss improved from 0.29770 to 0.24056, saving model to data/models/cnn_12-26__14-46.h5\n",
      "85/85 [==============================] - 137s 2s/step - loss: 0.3055 - acc: 0.8834 - val_loss: 0.2406 - val_acc: 0.8979\n",
      "Epoch 5/7\n",
      "84/85 [============================>.] - ETA: 1s - loss: 0.2687 - acc: 0.9053Epoch 1/7\n",
      "37/85 [============>.................] - ETA: 18s - loss: 0.2306 - acc: 0.8979\n",
      "Epoch 00005: val_loss improved from 0.24056 to 0.23059, saving model to data/models/cnn_12-26__14-46.h5\n",
      "85/85 [==============================] - 137s 2s/step - loss: 0.2669 - acc: 0.9065 - val_loss: 0.2306 - val_acc: 0.8979\n",
      "Epoch 6/7\n",
      "84/85 [============================>.] - ETA: 1s - loss: 0.2201 - acc: 0.9196Epoch 1/7\n",
      "37/85 [============>.................] - ETA: 18s - loss: 0.1682 - acc: 0.9377\n",
      "Epoch 00006: val_loss improved from 0.23059 to 0.16815, saving model to data/models/cnn_12-26__14-46.h5\n",
      "85/85 [==============================] - 137s 2s/step - loss: 0.2180 - acc: 0.9198 - val_loss: 0.1682 - val_acc: 0.9377\n",
      "Epoch 7/7\n",
      "84/85 [============================>.] - ETA: 1s - loss: 0.2297 - acc: 0.9196Epoch 1/7\n",
      "37/85 [============>.................] - ETA: 17s - loss: 0.3215 - acc: 0.8789\n",
      "Epoch 00007: val_loss did not improve from 0.16815\n",
      "85/85 [==============================] - 137s 2s/step - loss: 0.2306 - acc: 0.9183 - val_loss: 0.3215 - val_acc: 0.8789\n"
     ]
    }
   ],
   "source": [
    "cnn_model_loc = f\"data/models/cnn_{date}.h5\"\n",
    "callback_list = model_checkPoint(cnn_model_loc)\n",
    "\n",
    "history = cnn_model.fit(train_generator, verbose=1, epochs=7, validation_data=test_generator,\n",
    "                         validation_steps=len(test_generator), callbacks = callback_list)"
   ]
  },
  {
   "cell_type": "code",
   "execution_count": 15,
   "metadata": {},
   "outputs": [
    {
     "name": "stdout",
     "output_type": "stream",
     "text": [
      "WARNING:tensorflow:From C:\\Users\\Asif_\\miniconda3\\envs\\directML\\lib\\site-packages\\tensorflow_core\\python\\ops\\init_ops.py:97: calling GlorotUniform.__init__ (from tensorflow.python.ops.init_ops) with dtype is deprecated and will be removed in a future version.\n",
      "Instructions for updating:\n",
      "Call initializer instance with the dtype argument instead of passing it to the constructor\n",
      "WARNING:tensorflow:From C:\\Users\\Asif_\\miniconda3\\envs\\directML\\lib\\site-packages\\tensorflow_core\\python\\ops\\init_ops.py:97: calling Zeros.__init__ (from tensorflow.python.ops.init_ops) with dtype is deprecated and will be removed in a future version.\n",
      "Instructions for updating:\n",
      "Call initializer instance with the dtype argument instead of passing it to the constructor\n",
      "Test loss: 0.1692%\n",
      "Test accuracy: 0.9377%\n",
      "Large CNN Error: 6.2284%\n"
     ]
    }
   ],
   "source": [
    "results(cnn_model_loc)"
   ]
  },
  {
   "cell_type": "code",
   "execution_count": 16,
   "metadata": {},
   "outputs": [
    {
     "data": {
      "image/png": "[encoded data removed]",
      "text/plain": [
       "<Figure size 432x288 with 1 Axes>"
      ]
     },
     "metadata": {
      "needs_background": "light"
     },
     "output_type": "display_data"
    },
    {
     "data": {
      "image/png": "[encoded data removed]",
      "text/plain": [
       "<Figure size 432x288 with 1 Axes>"
      ]
     },
     "metadata": {
      "needs_background": "light"
     },
     "output_type": "display_data"
    }
   ],
   "source": [
    "plot_here()"
   ]
  },
  {
   "cell_type": "markdown",
   "metadata": {},
   "source": [
    "## Model 2"
   ]
  },
  {
   "cell_type": "code",
   "execution_count": 17,
   "metadata": {},
   "outputs": [
    {
     "name": "stdout",
     "output_type": "stream",
     "text": [
      "Model: \"sequential_1\"\n",
      "_________________________________________________________________\n",
      "Layer (type)                 Output Shape              Param #   \n",
      "=================================================================\n",
      "resnet50 (Model)             (None, 2048)              23587712  \n",
      "_________________________________________________________________\n",
      "dense_2 (Dense)              (None, 4)                 8196      \n",
      "=================================================================\n",
      "Total params: 23,595,908\n",
      "Trainable params: 8,196\n",
      "Non-trainable params: 23,587,712\n",
      "_________________________________________________________________\n",
      "None\n"
     ]
    }
   ],
   "source": [
    "from tensorflow.keras.applications import ResNet50\n",
    "\n",
    "def model_2():\n",
    "    model = Sequential()\n",
    "\n",
    "    model.add(ResNet50(input_shape= X_train.shape[1:], include_top=False, pooling='avg', weights='imagenet'))\n",
    "\n",
    "    model.add(Dense(4, activation='softmax'))\n",
    "\n",
    "    model.layers[0].trainable = False\n",
    "    \n",
    "    model.compile(optimizer='adam', loss='categorical_crossentropy', metrics=['accuracy'])\n",
    "\n",
    "    return model\n",
    "\n",
    "res50_model = model_2()\n",
    "\n",
    "print(res50_model.summary())"
   ]
  },
  {
   "cell_type": "code",
   "execution_count": 18,
   "metadata": {},
   "outputs": [
    {
     "name": "stdout",
     "output_type": "stream",
     "text": [
      "Epoch 1/10\n",
      "84/85 [============================>.] - ETA: 1s - loss: 0.4227 - acc: 0.8415Epoch 1/10\n",
      "37/85 [============>.................] - ETA: 41s - loss: 0.2880 - acc: 0.8927\n",
      "Epoch 00001: val_loss improved from inf to 0.28802, saving model to data/models/detection_res50_12-26__14-46.h5\n",
      "85/85 [==============================] - 119s 1s/step - loss: 0.4210 - acc: 0.8426 - val_loss: 0.2880 - val_acc: 0.8927\n",
      "Epoch 2/10\n",
      "84/85 [============================>.] - ETA: 0s - loss: 0.1522 - acc: 0.9512Epoch 1/10\n",
      "37/85 [============>.................] - ETA: 40s - loss: 0.2071 - acc: 0.9221\n",
      "Epoch 00002: val_loss improved from 0.28802 to 0.20714, saving model to data/models/detection_res50_12-26__14-46.h5\n",
      "85/85 [==============================] - 116s 1s/step - loss: 0.1516 - acc: 0.9510 - val_loss: 0.2071 - val_acc: 0.9221\n",
      "Epoch 3/10\n",
      "84/85 [============================>.] - ETA: 0s - loss: 0.1380 - acc: 0.9557Epoch 1/10\n",
      "37/85 [============>.................] - ETA: 40s - loss: 0.1451 - acc: 0.9377\n",
      "Epoch 00003: val_loss improved from 0.20714 to 0.14510, saving model to data/models/detection_res50_12-26__14-46.h5\n",
      "85/85 [==============================] - 116s 1s/step - loss: 0.1407 - acc: 0.9547 - val_loss: 0.1451 - val_acc: 0.9377\n",
      "Epoch 4/10\n",
      "84/85 [============================>.] - ETA: 0s - loss: 0.1120 - acc: 0.9662Epoch 1/10\n",
      "37/85 [============>.................] - ETA: 40s - loss: 0.2117 - acc: 0.9256\n",
      "Epoch 00004: val_loss did not improve from 0.14510\n",
      "85/85 [==============================] - 115s 1s/step - loss: 0.1114 - acc: 0.9659 - val_loss: 0.2117 - val_acc: 0.9256\n",
      "Epoch 5/10\n",
      "84/85 [============================>.] - ETA: 0s - loss: 0.0907 - acc: 0.9699Epoch 1/10\n",
      "37/85 [============>.................] - ETA: 40s - loss: 0.2460 - acc: 0.9308\n",
      "Epoch 00005: val_loss did not improve from 0.14510\n",
      "85/85 [==============================] - 115s 1s/step - loss: 0.0905 - acc: 0.9703 - val_loss: 0.2460 - val_acc: 0.9308\n",
      "Epoch 6/10\n",
      "84/85 [============================>.] - ETA: 0s - loss: 0.0807 - acc: 0.9752Epoch 1/10\n",
      "37/85 [============>.................] - ETA: 40s - loss: 0.2012 - acc: 0.9204\n",
      "Epoch 00006: val_loss did not improve from 0.14510\n",
      "85/85 [==============================] - 115s 1s/step - loss: 0.0802 - acc: 0.9755 - val_loss: 0.2012 - val_acc: 0.9204\n",
      "Epoch 7/10\n",
      "84/85 [============================>.] - ETA: 0s - loss: 0.0665 - acc: 0.9790Epoch 1/10\n",
      "37/85 [============>.................] - ETA: 40s - loss: 0.2199 - acc: 0.9100\n",
      "Epoch 00007: val_loss did not improve from 0.14510\n",
      "85/85 [==============================] - 115s 1s/step - loss: 0.0666 - acc: 0.9785 - val_loss: 0.2199 - val_acc: 0.9100\n",
      "Epoch 8/10\n",
      "84/85 [============================>.] - ETA: 0s - loss: 0.0510 - acc: 0.9865Epoch 1/10\n",
      "37/85 [============>.................] - ETA: 40s - loss: 0.1976 - acc: 0.9256\n",
      "Epoch 00008: val_loss did not improve from 0.14510\n",
      "85/85 [==============================] - 115s 1s/step - loss: 0.0512 - acc: 0.9859 - val_loss: 0.1976 - val_acc: 0.9256\n",
      "Epoch 9/10\n",
      "84/85 [============================>.] - ETA: 0s - loss: 0.0516 - acc: 0.9827Epoch 1/10\n",
      "37/85 [============>.................] - ETA: 40s - loss: 0.2577 - acc: 0.9118\n",
      "Epoch 00009: val_loss did not improve from 0.14510\n",
      "85/85 [==============================] - 115s 1s/step - loss: 0.0523 - acc: 0.9822 - val_loss: 0.2577 - val_acc: 0.9118\n",
      "Epoch 10/10\n",
      "84/85 [============================>.] - ETA: 0s - loss: 0.0931 - acc: 0.9745Epoch 1/10\n",
      "37/85 [============>.................] - ETA: 40s - loss: 0.1705 - acc: 0.9343\n",
      "Epoch 00010: val_loss did not improve from 0.14510\n",
      "85/85 [==============================] - 115s 1s/step - loss: 0.0921 - acc: 0.9748 - val_loss: 0.1705 - val_acc: 0.9343\n"
     ]
    }
   ],
   "source": [
    "res50_model_loc = f\"data/models/res50_{date}.h5\"\n",
    "callback_list = model_checkPoint(res50_model_loc)\n",
    "\n",
    "history = res50_model.fit(train_generator, verbose=1, epochs=10, validation_data=test_generator,\n",
    "                         validation_steps=len(test_generator), callbacks = callback_list)"
   ]
  },
  {
   "cell_type": "code",
   "execution_count": 19,
   "metadata": {
    "scrolled": true
   },
   "outputs": [
    {
     "name": "stdout",
     "output_type": "stream",
     "text": [
      "WARNING:tensorflow:From C:\\Users\\Asif_\\miniconda3\\envs\\directML\\lib\\site-packages\\tensorflow_core\\python\\ops\\init_ops.py:97: calling Ones.__init__ (from tensorflow.python.ops.init_ops) with dtype is deprecated and will be removed in a future version.\n",
      "Instructions for updating:\n",
      "Call initializer instance with the dtype argument instead of passing it to the constructor\n",
      "Test loss: 0.1448%\n",
      "Test accuracy: 0.9377%\n",
      "Large CNN Error: 6.2284%\n"
     ]
    }
   ],
   "source": [
    "results(res50_model_loc)"
   ]
  },
  {
   "cell_type": "code",
   "execution_count": 20,
   "metadata": {},
   "outputs": [
    {
     "data": {
      "image/png": "[encoded data removed]",
      "text/plain": [
       "<Figure size 432x288 with 1 Axes>"
      ]
     },
     "metadata": {
      "needs_background": "light"
     },
     "output_type": "display_data"
    },
    {
     "data": {
      "image/png": "[encoded data removed]",
      "text/plain": [
       "<Figure size 432x288 with 1 Axes>"
      ]
     },
     "metadata": {
      "needs_background": "light"
     },
     "output_type": "display_data"
    }
   ],
   "source": [
    "plot_here()"
   ]
  }
 ],
 "metadata": {
  "kernelspec": {
   "display_name": "Python 3 (ipykernel)",
   "language": "python",
   "name": "python3"
  },
  "language_info": {
   "codemirror_mode": {
    "name": "ipython",
    "version": 3
   },
   "file_extension": ".py",
   "mimetype": "text/x-python",
   "name": "python",
   "nbconvert_exporter": "python",
   "pygments_lexer": "ipython3",
   "version": "3.7.11"
  }
 },
 "nbformat": 4,
 "nbformat_minor": 4
}
